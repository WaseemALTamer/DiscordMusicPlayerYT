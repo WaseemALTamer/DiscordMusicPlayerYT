{
 "cells": [
  {
   "cell_type": "markdown",
   "metadata": {},
   "source": [
    "Install the requirements by going to cmd navigate to the files that you installed (\\DiscordMusicPlayerYT)\n",
    "then run the command in the terminal:\n",
    "                                    pip install -r requirements.txt\n",
    "\n",
    "this should install all the dependencys you need but they may be errors in the pytube library Check the \n",
    "YoutubeRequester.py it may help to fix the problem"
   ]
  },
  {
   "cell_type": "markdown",
   "metadata": {},
   "source": [
    "go the Main.py file and add your Token inside of it:"
   ]
  },
  {
   "cell_type": "code",
   "execution_count": null,
   "metadata": {},
   "outputs": [],
   "source": [
    "from DiscordBot import DiscordPlayer\n",
    "\n",
    "Token = \"xxxx-xxxx-xxxx-xxxx\" # add your bot token\n",
    "x = DiscordPlayer(Token)\n",
    "x.Run()"
   ]
  },
  {
   "cell_type": "markdown",
   "metadata": {},
   "source": [
    "now run the Main.py file make sure that you have the discord bot setup and with the right prmissions"
   ]
  }
 ],
 "metadata": {
  "kernelspec": {
   "display_name": "Python 3 (ipykernel)",
   "language": "python",
   "name": "python3"
  },
  "language_info": {
   "codemirror_mode": {
    "name": "ipython",
    "version": 3
   },
   "file_extension": ".py",
   "mimetype": "text/x-python",
   "name": "python",
   "nbconvert_exporter": "python",
   "pygments_lexer": "ipython3",
   "version": "3.12.4"
  }
 },
 "nbformat": 4,
 "nbformat_minor": 4
}
